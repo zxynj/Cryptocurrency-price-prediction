{
 "cells": [
  {
   "cell_type": "code",
   "execution_count": 1,
   "metadata": {
    "scrolled": true
   },
   "outputs": [
    {
     "name": "stderr",
     "output_type": "stream",
     "text": [
      "C:\\Users\\john\\AppData\\Local\\conda\\conda\\envs\\py35\\lib\\site-packages\\h5py\\__init__.py:36: FutureWarning: Conversion of the second argument of issubdtype from `float` to `np.floating` is deprecated. In future, it will be treated as `np.float64 == np.dtype(float).type`.\n",
      "  from ._conv import register_converters as _register_converters\n",
      "Using TensorFlow backend.\n"
     ]
    }
   ],
   "source": [
    "from pandas import DataFrame\n",
    "from pandas import Series\n",
    "from pandas import concat\n",
    "from pandas import read_csv\n",
    "from pandas import datetime\n",
    "import math\n",
    "from math import sqrt\n",
    "import matplotlib\n",
    "import numpy as np\n",
    "from numpy import concatenate\n",
    "import matplotlib.pyplot as plt\n",
    "from sklearn.metrics import mean_squared_error\n",
    "from sklearn.preprocessing import MinMaxScaler\n",
    "from keras.models import Sequential\n",
    "from keras.layers import Dense\n",
    "from keras.layers import LSTM\n",
    "from keras.layers.core import Dense, Activation, Dropout\n",
    "from keras.layers.recurrent import LSTM\n",
    "from keras.models import Sequential\n",
    "import lstm, time"
   ]
  },
  {
   "cell_type": "code",
   "execution_count": 2,
   "metadata": {},
   "outputs": [],
   "source": [
    "f = open('encrypto.csv', 'r').read()\n",
    "data = f.split('\\n')\n",
    "\n",
    "diff_log = []\n",
    "for i in range(1, 2640):\n",
    "    diff_log.append(np.log(float(data[i]))-np.log(float(data[i-1])))\n",
    "\n",
    "result = []\n",
    "for i in range(0, 2640 - 121):#121 is the shifting window size, 120 to train, 1 to predict\n",
    "    result.append(diff_log[i: i + 121])\n",
    "\n",
    "#scaler = MinMaxScaler(feature_range=(-1, 1))\n",
    "#scaler = scaler.fit(result)\n",
    "#transformed = scaler.transform(result)\n",
    "\n",
    "transformed = np.reshape(result, (2640-121,121))\n",
    "\n",
    "x = []\n",
    "for i in range(0, 2640 - 121):#121 is the shifting window size, 120 to train, 1 to predict\n",
    "    x.append(transformed[i][0:-1])\n",
    "y = []\n",
    "for i in range(0, 2640 - 121):#121 is the shifting window size, 120 to train, 1 to predict\n",
    "    y.append(transformed[i][-1])\n",
    "x_train = np.reshape(x, (2640-121,121-1, 1))#121 is the shifting window size, 120 to train, 1 to predict\n",
    "y_train = np.reshape(y, (2640-121))#121 is the shifting window size, 120 to train, 1 to predict\n",
    "x_vali = x_train[2640-60-121:2641-60-121]#121 is the shifting window size, 120 to train, 1 to predict\n",
    "y_vali = y_train[2640-60-121:2640-121]#121 is the shifting window size, 120 to train, 1 to predict"
   ]
  },
  {
   "cell_type": "code",
   "execution_count": 9,
   "metadata": {},
   "outputs": [
    {
     "data": {
      "text/plain": [
       "array([ 0.01390028,  0.04606111,  0.04387965,  0.03375608,  0.0447714 ,\n",
       "       -0.02907476,  0.03583954, -0.01745118, -0.02591579,  0.00781041,\n",
       "       -0.01597621, -0.00964875,  0.01413786,  0.00900132,  0.02803258,\n",
       "        0.00731868, -0.00332023,  0.00112389,  0.00715523,  0.03212103,\n",
       "       -0.00262533,  0.01998901,  0.02678394, -0.04477439, -0.00185345,\n",
       "       -0.04881186,  0.01640004,  0.03166028,  0.00171962, -0.0501333 ,\n",
       "       -0.00417265, -0.01662145, -0.00038926, -0.00681273, -0.04783569,\n",
       "       -0.12808923,  0.09339115, -0.00155099, -0.00117503,  0.07142353,\n",
       "       -0.02990279, -0.00702435, -0.04600565, -0.00181791,  0.03300777,\n",
       "       -0.02167522,  0.04897261, -0.00572494,  0.05410716, -0.00388118,\n",
       "       -0.00355308,  0.03106361,  0.00665621,  0.00150522, -0.01348178,\n",
       "       -0.01542747,  0.01585835,  0.00764831,  0.01061711,  0.02406331])"
      ]
     },
     "execution_count": 9,
     "metadata": {},
     "output_type": "execute_result"
    }
   ],
   "source": [
    "y_vali"
   ]
  },
  {
   "cell_type": "code",
   "execution_count": 226,
   "metadata": {},
   "outputs": [
    {
     "name": "stdout",
     "output_type": "stream",
     "text": [
      "compilation time :  0.03125\n"
     ]
    }
   ],
   "source": [
    "model = Sequential()\n",
    "model.add(LSTM(input_dim=1,output_dim=240,return_sequences=True))#use double the window-1 as 1st layer output\n",
    "model.add(Dropout(0.2))\n",
    "\n",
    "model.add(LSTM(input_dim=240,output_dim=240,return_sequences=True))#use window-1 as 2nd layer output\n",
    "model.add(Dropout(0.2))\n",
    "\n",
    "model.add(LSTM(input_dim=240,output_dim=120,return_sequences=True))#use half the window-1 as 3rd layer output\n",
    "model.add(Dropout(0.2))\n",
    "\n",
    "model.add(LSTM(120,return_sequences=False))#use half the window-1 as 4st layer input\n",
    "model.add(Dropout(0.2))\n",
    "\n",
    "model.add(Dense(output_dim=1))\n",
    "model.add(Activation('linear'))\n",
    "\n",
    "start = time.time()\n",
    "model.compile(loss='mse', optimizer='rmsprop')\n",
    "print ('compilation time : ', time.time() - start)"
   ]
  },
  {
   "cell_type": "code",
   "execution_count": 227,
   "metadata": {},
   "outputs": [
    {
     "name": "stdout",
     "output_type": "stream",
     "text": [
      "Train on 2279 samples, validate on 240 samples\n",
      "Epoch 1/5\n",
      "2279/2279 [==============================] - 152s 67ms/step - loss: 0.0023 - val_loss: 0.0011\n",
      "Epoch 2/5\n",
      "2279/2279 [==============================] - 121s 53ms/step - loss: 0.0016 - val_loss: 9.9609e-04\n",
      "Epoch 3/5\n",
      "2279/2279 [==============================] - 125s 55ms/step - loss: 0.0016 - val_loss: 0.0012\n",
      "Epoch 4/5\n",
      "2279/2279 [==============================] - 124s 54ms/step - loss: 0.0016 - val_loss: 9.9013e-04\n",
      "Epoch 5/5\n",
      "2279/2279 [==============================] - 125s 55ms/step - loss: 0.0016 - val_loss: 9.9168e-04\n"
     ]
    }
   ],
   "source": [
    "history = model.fit(x_train,y_train,batch_size=128,nb_epoch=5,validation_split=240/(2640-121))"
   ]
  },
  {
   "cell_type": "code",
   "execution_count": 228,
   "metadata": {},
   "outputs": [
    {
     "data": {
      "image/png": "[encoded data removed]",
      "text/plain": [
       "<matplotlib.figure.Figure at 0x2b184f77710>"
      ]
     },
     "metadata": {},
     "output_type": "display_data"
    }
   ],
   "source": [
    "plt.plot(history.history['loss'])\n",
    "plt.plot(history.history['val_loss'])\n",
    "plt.title('model loss')\n",
    "plt.ylabel('loss')\n",
    "plt.xlabel('epoch')\n",
    "plt.legend(['train', 'test'], loc='upper left')\n",
    "plt.show()"
   ]
  },
  {
   "cell_type": "code",
   "execution_count": 229,
   "metadata": {},
   "outputs": [],
   "source": [
    "curr_frame = x_vali\n",
    "predicted = []\n",
    "for i in range(0,60):\n",
    "    predicted.append(model.predict(curr_frame))\n",
    "    curr_frame = curr_frame[0][1:121-1]#121 is the shifting window size, 120 to train, 1 to predict\n",
    "    curr_frame = np.insert(curr_frame, [121-2], predicted[-1], axis=0)#121 is the shifting window size, 120 to train, 1 to predict\n",
    "    curr_frame = np.reshape(curr_frame, (1,121-1, 1))#121 is the shifting window size, 120 to train, 1 to predict\n",
    "predicted_reshape = np.reshape(np.array(predicted),(60))"
   ]
  },
  {
   "cell_type": "code",
   "execution_count": 230,
   "metadata": {},
   "outputs": [],
   "source": [
    "previous_price=[295.1347521]\n",
    "predicted_price = []\n",
    "for i in range(0,60):\n",
    "    predicted_price.append(math.exp(np.log(previous_price)+predicted_reshape[i]))\n",
    "    previous_price = predicted_price[-1]"
   ]
  },
  {
   "cell_type": "code",
   "execution_count": 231,
   "metadata": {},
   "outputs": [],
   "source": [
    "previous_price=[295.1347521]\n",
    "actual_price = []\n",
    "for i in range(0,60):\n",
    "    actual_price.append(math.exp(np.log(previous_price)+y_vali[i]))\n",
    "    previous_price = actual_price[-1]"
   ]
  },
  {
   "cell_type": "code",
   "execution_count": 232,
   "metadata": {},
   "outputs": [
    {
     "data": {
      "text/plain": [
       "43.614400548108314"
      ]
     },
     "execution_count": 232,
     "metadata": {},
     "output_type": "execute_result"
    }
   ],
   "source": [
    "rmse = sqrt(sum((np.asarray(predicted_price)-np.asarray(actual_price))**2)/60)\n",
    "rmse"
   ]
  },
  {
   "cell_type": "code",
   "execution_count": 233,
   "metadata": {},
   "outputs": [
    {
     "name": "stdout",
     "output_type": "stream",
     "text": [
      "Prediction vs True data\n"
     ]
    },
    {
     "data": {
      "image/png": "[encoded data removed]",
      "text/plain": [
       "<matplotlib.figure.Figure at 0x2b187e38be0>"
      ]
     },
     "metadata": {},
     "output_type": "display_data"
    }
   ],
   "source": [
    "fig = plt.figure(facecolor='white')\n",
    "ax = fig.add_subplot(111)\n",
    "ax.plot(actual_price, label='True Data')\n",
    "print ('Prediction vs True data')\n",
    "plt.plot(predicted_price, label='Prediction')\n",
    "plt.legend()\n",
    "plt.show()"
   ]
  },
  {
   "cell_type": "code",
   "execution_count": null,
   "metadata": {},
   "outputs": [],
   "source": []
  },
  {
   "cell_type": "code",
   "execution_count": null,
   "metadata": {},
   "outputs": [],
   "source": []
  },
  {
   "cell_type": "code",
   "execution_count": null,
   "metadata": {},
   "outputs": [],
   "source": []
  },
  {
   "cell_type": "code",
   "execution_count": null,
   "metadata": {},
   "outputs": [],
   "source": []
  },
  {
   "cell_type": "code",
   "execution_count": null,
   "metadata": {},
   "outputs": [],
   "source": []
  },
  {
   "cell_type": "code",
   "execution_count": 110,
   "metadata": {},
   "outputs": [],
   "source": [
    "inverse_scale=y_vali*(scaler.data_max_[120]-scaler.data_min_[120])+scaler.data_min_[120]"
   ]
  },
  {
   "cell_type": "code",
   "execution_count": 106,
   "metadata": {},
   "outputs": [
    {
     "data": {
      "text/plain": [
       "0.2972056531195023"
      ]
     },
     "execution_count": 106,
     "metadata": {},
     "output_type": "execute_result"
    }
   ],
   "source": [
    "scaler.data_max_[120]"
   ]
  },
  {
   "cell_type": "code",
   "execution_count": 107,
   "metadata": {},
   "outputs": [
    {
     "data": {
      "text/plain": [
       "-0.3440695919002055"
      ]
     },
     "execution_count": 107,
     "metadata": {},
     "output_type": "execute_result"
    }
   ],
   "source": [
    "scaler.data_min_[120]"
   ]
  },
  {
   "cell_type": "code",
   "execution_count": 141,
   "metadata": {},
   "outputs": [
    {
     "data": {
      "text/plain": [
       "[292.26799403720514,\n",
       " 289.42667966888627,\n",
       " 286.6115599066794,\n",
       " 283.8231654453066,\n",
       " 281.06174644912994,\n",
       " 278.32731457915287,\n",
       " 275.6197191549669,\n",
       " 272.93872708377063,\n",
       " 270.28408022725563,\n",
       " 267.655533085194,\n",
       " 265.052862891886,\n",
       " 262.47587201919384,\n",
       " 259.92437762197545,\n",
       " 257.3982004158372,\n",
       " 254.89715409012402,\n",
       " 252.4210386255234,\n",
       " 249.96963331352345,\n",
       " 247.54269688834847,\n",
       " 245.13997156223977,\n",
       " 242.76118165572709,\n",
       " 240.40604151215493,\n",
       " 238.07425876591287,\n",
       " 235.76553897407902,\n",
       " 233.47958803393453,\n",
       " 231.2161187727092,\n",
       " 228.9748490534515,\n",
       " 226.75550610906578,\n",
       " 224.55782622872573,\n",
       " 222.38155652372296,\n",
       " 220.22645206877147,\n",
       " 218.09227868133797,\n",
       " 215.97881009996854,\n",
       " 213.88582730612782,\n",
       " 211.8131182712632,\n",
       " 209.76047712459294,\n",
       " 207.72770394198446,\n",
       " 205.714601858272,\n",
       " 203.72097908431027,\n",
       " 201.74664704647597,\n",
       " 199.7914195593808,\n",
       " 197.85511351805135,\n",
       " 195.93754790587826,\n",
       " 194.03854412258895,\n",
       " 192.15792414432187,\n",
       " 190.29551268790303,\n",
       " 188.45113573987587,\n",
       " 186.62462055927702,\n",
       " 184.815796196402,\n",
       " 183.02449346980802,\n",
       " 181.25054393086882,\n",
       " 179.49378089359035,\n",
       " 177.75403941174787,\n",
       " 176.0311554366815,\n",
       " 174.32496599723987,\n",
       " 172.63531033415688,\n",
       " 170.96202921699674,\n",
       " 169.30496414150832,\n",
       " 167.66395860289776,\n",
       " 166.03885743984182,\n",
       " 164.42950667468523]"
      ]
     },
     "execution_count": 141,
     "metadata": {},
     "output_type": "execute_result"
    }
   ],
   "source": [
    "predicted_price"
   ]
  },
  {
   "cell_type": "code",
   "execution_count": 111,
   "metadata": {},
   "outputs": [
    {
     "data": {
      "text/plain": [
       "array([-0.32820462, -0.26940509, -0.20508343, -0.20944635, -0.22969349,\n",
       "       -0.20766285, -0.35535517, -0.22552658, -0.33210801, -0.34903724,\n",
       "       -0.28158484, -0.32915808, -0.31650316, -0.26892994, -0.27920301,\n",
       "       -0.24114048, -0.2825683 , -0.30384612, -0.29495787, -0.28289519,\n",
       "       -0.23296359, -0.3024563 , -0.25722763, -0.24363778, -0.38675444,\n",
       "       -0.30091256, -0.39482937, -0.26440557, -0.23388509, -0.2937664 ,\n",
       "       -0.39747226, -0.30555096, -0.33044856, -0.29798417, -0.31083111,\n",
       "       -0.39287704, -0.55338411, -0.11042335, -0.30030763, -0.29955571,\n",
       "       -0.1543586 , -0.35701123, -0.31125435, -0.38921696, -0.30084147,\n",
       "       -0.23119012, -0.3405561 , -0.19926043, -0.30865553, -0.18899134,\n",
       "       -0.30496802, -0.30431182, -0.23507844, -0.28389324, -0.29419522,\n",
       "       -0.32416922, -0.3280606 , -0.26548895, -0.28190904, -0.27597142])"
      ]
     },
     "execution_count": 111,
     "metadata": {},
     "output_type": "execute_result"
    }
   ],
   "source": [
    "inverse_scale"
   ]
  },
  {
   "cell_type": "code",
   "execution_count": 102,
   "metadata": {},
   "outputs": [
    {
     "data": {
      "text/plain": [
       "array([0.05084993, 0.05096739, 0.05100506, 0.05095674, 0.05083358,\n",
       "       0.05065665, 0.05045038, 0.05023785, 0.05003801, 0.04986458,\n",
       "       0.04972593, 0.04962575, 0.04956401, 0.04953792, 0.04954296,\n",
       "       0.04957371, 0.04962439, 0.04968946, 0.04976385, 0.04984314,\n",
       "       0.04992371, 0.05000266, 0.05007787, 0.0501478 , 0.05021153,\n",
       "       0.05026855, 0.05031876, 0.05036228, 0.05039949, 0.05043084,\n",
       "       0.05045692, 0.0504783 , 0.0504956 , 0.05050939, 0.05052019,\n",
       "       0.05052852, 0.05053481, 0.05053943, 0.05054272, 0.05054498,\n",
       "       0.05054642, 0.05054725, 0.05054763, 0.05054767, 0.0505475 ,\n",
       "       0.05054716, 0.05054675, 0.05054628, 0.0505458 , 0.05054533,\n",
       "       0.05054488, 0.05054447, 0.05054409, 0.05054376, 0.05054348,\n",
       "       0.05054323, 0.05054301, 0.05054282, 0.05054267, 0.05054256],\n",
       "      dtype=float32)"
      ]
     },
     "execution_count": 102,
     "metadata": {},
     "output_type": "execute_result"
    }
   ],
   "source": [
    "predicted_reshape"
   ]
  },
  {
   "cell_type": "code",
   "execution_count": 109,
   "metadata": {},
   "outputs": [
    {
     "data": {
      "text/plain": [
       "array([ 0.02473972,  0.11643129,  0.21673402,  0.20993051,  0.17835727,\n",
       "        0.21271169, -0.01759865,  0.18485513,  0.01865281, -0.00774652,\n",
       "        0.09743828,  0.0232529 ,  0.0429869 ,  0.11717223,  0.10115249,\n",
       "        0.16050691,  0.09590467,  0.06272419,  0.07658447,  0.09539493,\n",
       "        0.17325791,  0.06489146,  0.13542073,  0.15661264, -0.06656244,\n",
       "        0.06729876, -0.07915443,  0.12422751,  0.17182092,  0.07844243,\n",
       "       -0.08327573,  0.06006568,  0.02124054,  0.07186527,  0.05183186,\n",
       "       -0.07610998, -0.32640355,  0.36434627,  0.0682421 ,  0.06941463,\n",
       "        0.29583395, -0.0201811 ,  0.05117185, -0.07040248,  0.06740962,\n",
       "        0.17602344,  0.00547891,  0.22581437,  0.05522443,  0.24182791,\n",
       "        0.06097471,  0.06199799,  0.16996002,  0.09383857,  0.07777373,\n",
       "        0.0310325 ,  0.02496431,  0.12253808,  0.09693272,  0.10619179])"
      ]
     },
     "execution_count": 109,
     "metadata": {},
     "output_type": "execute_result"
    }
   ],
   "source": [
    "y_vali"
   ]
  },
  {
   "cell_type": "code",
   "execution_count": null,
   "metadata": {},
   "outputs": [],
   "source": [
    "transformed.shape"
   ]
  },
  {
   "cell_type": "code",
   "execution_count": null,
   "metadata": {},
   "outputs": [],
   "source": [
    "inverted"
   ]
  },
  {
   "cell_type": "code",
   "execution_count": null,
   "metadata": {},
   "outputs": [],
   "source": [
    "predictions"
   ]
  },
  {
   "cell_type": "code",
   "execution_count": null,
   "metadata": {},
   "outputs": [],
   "source": []
  }
 ],
 "metadata": {
  "kernelspec": {
   "display_name": "Python 3",
   "language": "python",
   "name": "python3"
  },
  "language_info": {
   "codemirror_mode": {
    "name": "ipython",
    "version": 3
   },
   "file_extension": ".py",
   "mimetype": "text/x-python",
   "name": "python",
   "nbconvert_exporter": "python",
   "pygments_lexer": "ipython3",
   "version": "3.5.4"
  }
 },
 "nbformat": 4,
 "nbformat_minor": 2
}
